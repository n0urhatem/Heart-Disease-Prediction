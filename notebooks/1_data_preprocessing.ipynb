{
  "cells": [
    {
      "cell_type": "markdown",
      "metadata": {
        "id": "4b6ZfFMzwqCt"
      },
      "source": [
        "## Importing Libraries and Setting Up Environment"
      ]
    },
    {
      "cell_type": "code",
      "execution_count": 53,
      "metadata": {
        "colab": {
          "base_uri": "https://localhost:8080/"
        },
        "id": "3akdZ4_ewuVv",
        "outputId": "a397b316-fb4e-4908-f045-20ffe9f1b595"
      },
      "outputs": [],
      "source": [
        "import numpy as np\n",
        "import pandas as pd\n",
        "from sklearn.preprocessing import StandardScaler\n",
        "import pickle\n",
        "\n",
        "import warnings\n",
        "warnings.filterwarnings('ignore')\n",
        "np.random.seed(42)"
      ]
    },
    {
      "cell_type": "code",
      "execution_count": 54,
      "metadata": {
        "id": "4QFQCUI4wxcN"
      },
      "outputs": [],
      "source": [
        "heart_disease_df = pd.read_csv('../data/heart_disease.csv')"
      ]
    },
    {
      "cell_type": "markdown",
      "metadata": {
        "id": "VV5WVGcRw2Ub"
      },
      "source": [
        "## Exploratory Data Analysis (EDA)"
      ]
    },
    {
      "cell_type": "code",
      "execution_count": 55,
      "metadata": {
        "colab": {
          "base_uri": "https://localhost:8080/"
        },
        "id": "wDr6ToWMw0Wk",
        "outputId": "a0aa3109-e1fd-4501-9ad1-d0af51f67f62"
      },
      "outputs": [
        {
          "data": {
            "text/plain": [
              "(920, 16)"
            ]
          },
          "execution_count": 55,
          "metadata": {},
          "output_type": "execute_result"
        }
      ],
      "source": [
        "heart_disease_df.shape"
      ]
    },
    {
      "cell_type": "code",
      "execution_count": 56,
      "metadata": {
        "colab": {
          "base_uri": "https://localhost:8080/"
        },
        "id": "grW9jODbxAak",
        "outputId": "75299d34-e55b-4d2c-f401-871766c069b5"
      },
      "outputs": [
        {
          "name": "stdout",
          "output_type": "stream",
          "text": [
            "<class 'pandas.core.frame.DataFrame'>\n",
            "RangeIndex: 920 entries, 0 to 919\n",
            "Data columns (total 16 columns):\n",
            " #   Column    Non-Null Count  Dtype  \n",
            "---  ------    --------------  -----  \n",
            " 0   id        920 non-null    int64  \n",
            " 1   age       920 non-null    int64  \n",
            " 2   sex       920 non-null    object \n",
            " 3   dataset   920 non-null    object \n",
            " 4   cp        920 non-null    object \n",
            " 5   trestbps  861 non-null    float64\n",
            " 6   chol      890 non-null    float64\n",
            " 7   fbs       830 non-null    object \n",
            " 8   restecg   918 non-null    object \n",
            " 9   thalch    865 non-null    float64\n",
            " 10  exang     865 non-null    object \n",
            " 11  oldpeak   858 non-null    float64\n",
            " 12  slope     611 non-null    object \n",
            " 13  ca        309 non-null    float64\n",
            " 14  thal      434 non-null    object \n",
            " 15  num       920 non-null    int64  \n",
            "dtypes: float64(5), int64(3), object(8)\n",
            "memory usage: 115.1+ KB\n"
          ]
        }
      ],
      "source": [
        "heart_disease_df.info()"
      ]
    },
    {
      "cell_type": "code",
      "execution_count": 57,
      "metadata": {
        "colab": {
          "base_uri": "https://localhost:8080/"
        },
        "id": "1Y4A45EFxBBD",
        "outputId": "c090bc2b-8258-4d1e-fa4a-5fb60ebdc298"
      },
      "outputs": [
        {
          "name": "stdout",
          "output_type": "stream",
          "text": [
            "   id  age     sex    dataset               cp  trestbps   chol    fbs  \\\n",
            "0   1   63    Male  Cleveland   typical angina     145.0  233.0   True   \n",
            "1   2   67    Male  Cleveland     asymptomatic     160.0  286.0  False   \n",
            "2   3   67    Male  Cleveland     asymptomatic     120.0  229.0  False   \n",
            "3   4   37    Male  Cleveland      non-anginal     130.0  250.0  False   \n",
            "4   5   41  Female  Cleveland  atypical angina     130.0  204.0  False   \n",
            "\n",
            "          restecg  thalch  exang  oldpeak        slope   ca  \\\n",
            "0  lv hypertrophy   150.0  False      2.3  downsloping  0.0   \n",
            "1  lv hypertrophy   108.0   True      1.5         flat  3.0   \n",
            "2  lv hypertrophy   129.0   True      2.6         flat  2.0   \n",
            "3          normal   187.0  False      3.5  downsloping  0.0   \n",
            "4  lv hypertrophy   172.0  False      1.4    upsloping  0.0   \n",
            "\n",
            "                thal  num  \n",
            "0       fixed defect    0  \n",
            "1             normal    2  \n",
            "2  reversable defect    1  \n",
            "3             normal    0  \n",
            "4             normal    0  \n"
          ]
        }
      ],
      "source": [
        "print(heart_disease_df.head())"
      ]
    },
    {
      "cell_type": "code",
      "execution_count": 58,
      "metadata": {
        "colab": {
          "base_uri": "https://localhost:8080/",
          "height": 300
        },
        "id": "8zfCu30LxI6V",
        "outputId": "6a33f1ee-f9a1-4c03-e985-d2ff2e7b847d"
      },
      "outputs": [
        {
          "data": {
            "application/vnd.microsoft.datawrangler.viewer.v0+json": {
              "columns": [
                {
                  "name": "index",
                  "rawType": "object",
                  "type": "string"
                },
                {
                  "name": "id",
                  "rawType": "float64",
                  "type": "float"
                },
                {
                  "name": "age",
                  "rawType": "float64",
                  "type": "float"
                },
                {
                  "name": "trestbps",
                  "rawType": "float64",
                  "type": "float"
                },
                {
                  "name": "chol",
                  "rawType": "float64",
                  "type": "float"
                },
                {
                  "name": "thalch",
                  "rawType": "float64",
                  "type": "float"
                },
                {
                  "name": "oldpeak",
                  "rawType": "float64",
                  "type": "float"
                },
                {
                  "name": "ca",
                  "rawType": "float64",
                  "type": "float"
                },
                {
                  "name": "num",
                  "rawType": "float64",
                  "type": "float"
                }
              ],
              "ref": "f2f50c3c-000d-473d-9527-d08ff6508392",
              "rows": [
                [
                  "count",
                  "920.0",
                  "920.0",
                  "861.0",
                  "890.0",
                  "865.0",
                  "858.0",
                  "309.0",
                  "920.0"
                ],
                [
                  "mean",
                  "460.5",
                  "53.51",
                  "132.13",
                  "199.13",
                  "137.55",
                  "0.88",
                  "0.68",
                  "1.0"
                ],
                [
                  "std",
                  "265.73",
                  "9.42",
                  "19.07",
                  "110.78",
                  "25.93",
                  "1.09",
                  "0.94",
                  "1.14"
                ],
                [
                  "min",
                  "1.0",
                  "28.0",
                  "0.0",
                  "0.0",
                  "60.0",
                  "-2.6",
                  "0.0",
                  "0.0"
                ],
                [
                  "25%",
                  "230.75",
                  "47.0",
                  "120.0",
                  "175.0",
                  "120.0",
                  "0.0",
                  "0.0",
                  "0.0"
                ],
                [
                  "50%",
                  "460.5",
                  "54.0",
                  "130.0",
                  "223.0",
                  "140.0",
                  "0.5",
                  "0.0",
                  "1.0"
                ],
                [
                  "75%",
                  "690.25",
                  "60.0",
                  "140.0",
                  "268.0",
                  "157.0",
                  "1.5",
                  "1.0",
                  "2.0"
                ],
                [
                  "max",
                  "920.0",
                  "77.0",
                  "200.0",
                  "603.0",
                  "202.0",
                  "6.2",
                  "3.0",
                  "4.0"
                ]
              ],
              "shape": {
                "columns": 8,
                "rows": 8
              }
            },
            "text/html": [
              "<div>\n",
              "<style scoped>\n",
              "    .dataframe tbody tr th:only-of-type {\n",
              "        vertical-align: middle;\n",
              "    }\n",
              "\n",
              "    .dataframe tbody tr th {\n",
              "        vertical-align: top;\n",
              "    }\n",
              "\n",
              "    .dataframe thead th {\n",
              "        text-align: right;\n",
              "    }\n",
              "</style>\n",
              "<table border=\"1\" class=\"dataframe\">\n",
              "  <thead>\n",
              "    <tr style=\"text-align: right;\">\n",
              "      <th></th>\n",
              "      <th>id</th>\n",
              "      <th>age</th>\n",
              "      <th>trestbps</th>\n",
              "      <th>chol</th>\n",
              "      <th>thalch</th>\n",
              "      <th>oldpeak</th>\n",
              "      <th>ca</th>\n",
              "      <th>num</th>\n",
              "    </tr>\n",
              "  </thead>\n",
              "  <tbody>\n",
              "    <tr>\n",
              "      <th>count</th>\n",
              "      <td>920.00</td>\n",
              "      <td>920.00</td>\n",
              "      <td>861.00</td>\n",
              "      <td>890.00</td>\n",
              "      <td>865.00</td>\n",
              "      <td>858.00</td>\n",
              "      <td>309.00</td>\n",
              "      <td>920.00</td>\n",
              "    </tr>\n",
              "    <tr>\n",
              "      <th>mean</th>\n",
              "      <td>460.50</td>\n",
              "      <td>53.51</td>\n",
              "      <td>132.13</td>\n",
              "      <td>199.13</td>\n",
              "      <td>137.55</td>\n",
              "      <td>0.88</td>\n",
              "      <td>0.68</td>\n",
              "      <td>1.00</td>\n",
              "    </tr>\n",
              "    <tr>\n",
              "      <th>std</th>\n",
              "      <td>265.73</td>\n",
              "      <td>9.42</td>\n",
              "      <td>19.07</td>\n",
              "      <td>110.78</td>\n",
              "      <td>25.93</td>\n",
              "      <td>1.09</td>\n",
              "      <td>0.94</td>\n",
              "      <td>1.14</td>\n",
              "    </tr>\n",
              "    <tr>\n",
              "      <th>min</th>\n",
              "      <td>1.00</td>\n",
              "      <td>28.00</td>\n",
              "      <td>0.00</td>\n",
              "      <td>0.00</td>\n",
              "      <td>60.00</td>\n",
              "      <td>-2.60</td>\n",
              "      <td>0.00</td>\n",
              "      <td>0.00</td>\n",
              "    </tr>\n",
              "    <tr>\n",
              "      <th>25%</th>\n",
              "      <td>230.75</td>\n",
              "      <td>47.00</td>\n",
              "      <td>120.00</td>\n",
              "      <td>175.00</td>\n",
              "      <td>120.00</td>\n",
              "      <td>0.00</td>\n",
              "      <td>0.00</td>\n",
              "      <td>0.00</td>\n",
              "    </tr>\n",
              "    <tr>\n",
              "      <th>50%</th>\n",
              "      <td>460.50</td>\n",
              "      <td>54.00</td>\n",
              "      <td>130.00</td>\n",
              "      <td>223.00</td>\n",
              "      <td>140.00</td>\n",
              "      <td>0.50</td>\n",
              "      <td>0.00</td>\n",
              "      <td>1.00</td>\n",
              "    </tr>\n",
              "    <tr>\n",
              "      <th>75%</th>\n",
              "      <td>690.25</td>\n",
              "      <td>60.00</td>\n",
              "      <td>140.00</td>\n",
              "      <td>268.00</td>\n",
              "      <td>157.00</td>\n",
              "      <td>1.50</td>\n",
              "      <td>1.00</td>\n",
              "      <td>2.00</td>\n",
              "    </tr>\n",
              "    <tr>\n",
              "      <th>max</th>\n",
              "      <td>920.00</td>\n",
              "      <td>77.00</td>\n",
              "      <td>200.00</td>\n",
              "      <td>603.00</td>\n",
              "      <td>202.00</td>\n",
              "      <td>6.20</td>\n",
              "      <td>3.00</td>\n",
              "      <td>4.00</td>\n",
              "    </tr>\n",
              "  </tbody>\n",
              "</table>\n",
              "</div>"
            ],
            "text/plain": [
              "           id     age  trestbps    chol  thalch  oldpeak      ca     num\n",
              "count  920.00  920.00    861.00  890.00  865.00   858.00  309.00  920.00\n",
              "mean   460.50   53.51    132.13  199.13  137.55     0.88    0.68    1.00\n",
              "std    265.73    9.42     19.07  110.78   25.93     1.09    0.94    1.14\n",
              "min      1.00   28.00      0.00    0.00   60.00    -2.60    0.00    0.00\n",
              "25%    230.75   47.00    120.00  175.00  120.00     0.00    0.00    0.00\n",
              "50%    460.50   54.00    130.00  223.00  140.00     0.50    0.00    1.00\n",
              "75%    690.25   60.00    140.00  268.00  157.00     1.50    1.00    2.00\n",
              "max    920.00   77.00    200.00  603.00  202.00     6.20    3.00    4.00"
            ]
          },
          "execution_count": 58,
          "metadata": {},
          "output_type": "execute_result"
        }
      ],
      "source": [
        "heart_disease_df.describe().round(2)"
      ]
    },
    {
      "cell_type": "markdown",
      "metadata": {
        "id": "w2Sfy6lXxNwq"
      },
      "source": [
        "## Data Quality Checks"
      ]
    },
    {
      "cell_type": "code",
      "execution_count": 59,
      "metadata": {
        "colab": {
          "base_uri": "https://localhost:8080/",
          "height": 586
        },
        "id": "gQr2TKdhxJh9",
        "outputId": "6a641de8-8a97-4962-91de-1710065b719d"
      },
      "outputs": [
        {
          "data": {
            "application/vnd.microsoft.datawrangler.viewer.v0+json": {
              "columns": [
                {
                  "name": "index",
                  "rawType": "object",
                  "type": "string"
                },
                {
                  "name": "0",
                  "rawType": "int64",
                  "type": "integer"
                }
              ],
              "ref": "f523d725-426e-469e-907a-187f909ffb83",
              "rows": [
                [
                  "id",
                  "0"
                ],
                [
                  "age",
                  "0"
                ],
                [
                  "sex",
                  "0"
                ],
                [
                  "dataset",
                  "0"
                ],
                [
                  "cp",
                  "0"
                ],
                [
                  "trestbps",
                  "59"
                ],
                [
                  "chol",
                  "30"
                ],
                [
                  "fbs",
                  "90"
                ],
                [
                  "restecg",
                  "2"
                ],
                [
                  "thalch",
                  "55"
                ],
                [
                  "exang",
                  "55"
                ],
                [
                  "oldpeak",
                  "62"
                ],
                [
                  "slope",
                  "309"
                ],
                [
                  "ca",
                  "611"
                ],
                [
                  "thal",
                  "486"
                ],
                [
                  "num",
                  "0"
                ]
              ],
              "shape": {
                "columns": 1,
                "rows": 16
              }
            },
            "text/plain": [
              "id            0\n",
              "age           0\n",
              "sex           0\n",
              "dataset       0\n",
              "cp            0\n",
              "trestbps     59\n",
              "chol         30\n",
              "fbs          90\n",
              "restecg       2\n",
              "thalch       55\n",
              "exang        55\n",
              "oldpeak      62\n",
              "slope       309\n",
              "ca          611\n",
              "thal        486\n",
              "num           0\n",
              "dtype: int64"
            ]
          },
          "execution_count": 59,
          "metadata": {},
          "output_type": "execute_result"
        }
      ],
      "source": [
        "heart_disease_df.isna().sum()"
      ]
    },
    {
      "cell_type": "code",
      "execution_count": 60,
      "metadata": {
        "id": "bsEllnDXxR9E"
      },
      "outputs": [],
      "source": [
        "heart_disease_df.drop(heart_disease_df[['id', 'dataset']], axis=1, inplace=True)\n",
        "heart_disease_df['num'] = heart_disease_df['num'].apply(lambda x: 1 if x > 0 else 0)"
      ]
    },
    {
      "cell_type": "code",
      "execution_count": 61,
      "metadata": {
        "id": "2aK-r_YsxT19"
      },
      "outputs": [],
      "source": [
        "heart_disease_df.drop(heart_disease_df[heart_disease_df['thal'].isnull() & heart_disease_df['slope'].isnull()].index, inplace=True)\n",
        "\n",
        "mean_cols = ['trestbps', 'chol', 'thalch', 'oldpeak']\n",
        "heart_disease_df[mean_cols] = heart_disease_df[mean_cols].fillna(heart_disease_df[mean_cols].mean())\n",
        "\n",
        "heart_disease_df['ca'].fillna(heart_disease_df['ca'].median(), inplace=True)\n",
        "\n",
        "mode_cols = ['fbs', 'restecg', 'exang', 'slope', 'thal']\n",
        "for col in mode_cols:\n",
        "    heart_disease_df[col].fillna(heart_disease_df[col].mode().iloc[0], inplace=True)"
      ]
    },
    {
      "cell_type": "code",
      "execution_count": 62,
      "metadata": {
        "colab": {
          "base_uri": "https://localhost:8080/",
          "height": 523
        },
        "id": "dgHCGej4xWCV",
        "outputId": "061e69b5-bd0a-4897-b2b4-ae573fd0edf9"
      },
      "outputs": [
        {
          "data": {
            "application/vnd.microsoft.datawrangler.viewer.v0+json": {
              "columns": [
                {
                  "name": "index",
                  "rawType": "object",
                  "type": "string"
                },
                {
                  "name": "0",
                  "rawType": "int64",
                  "type": "integer"
                }
              ],
              "ref": "00c688af-3818-48cf-9012-3dac778c8768",
              "rows": [
                [
                  "age",
                  "0"
                ],
                [
                  "sex",
                  "0"
                ],
                [
                  "cp",
                  "0"
                ],
                [
                  "trestbps",
                  "0"
                ],
                [
                  "chol",
                  "0"
                ],
                [
                  "fbs",
                  "0"
                ],
                [
                  "restecg",
                  "0"
                ],
                [
                  "thalch",
                  "0"
                ],
                [
                  "exang",
                  "0"
                ],
                [
                  "oldpeak",
                  "0"
                ],
                [
                  "slope",
                  "0"
                ],
                [
                  "ca",
                  "0"
                ],
                [
                  "thal",
                  "0"
                ],
                [
                  "num",
                  "0"
                ]
              ],
              "shape": {
                "columns": 1,
                "rows": 14
              }
            },
            "text/plain": [
              "age         0\n",
              "sex         0\n",
              "cp          0\n",
              "trestbps    0\n",
              "chol        0\n",
              "fbs         0\n",
              "restecg     0\n",
              "thalch      0\n",
              "exang       0\n",
              "oldpeak     0\n",
              "slope       0\n",
              "ca          0\n",
              "thal        0\n",
              "num         0\n",
              "dtype: int64"
            ]
          },
          "execution_count": 62,
          "metadata": {},
          "output_type": "execute_result"
        }
      ],
      "source": [
        "heart_disease_df.isna().sum()"
      ]
    },
    {
      "cell_type": "code",
      "execution_count": 63,
      "metadata": {
        "id": "8eEtCKKCxX3U"
      },
      "outputs": [],
      "source": [
        "outlier_clos = ['age', 'trestbps', 'chol', 'thalch', 'oldpeak', 'ca']\n",
        "outlier = pd.Series(False, index=heart_disease_df.index)\n",
        "\n",
        "for col in outlier_clos:\n",
        "    Q1 = heart_disease_df[col].quantile(0.25)\n",
        "    Q3 = heart_disease_df[col].quantile(0.75)\n",
        "    IQR = Q3 - Q1\n",
        "    upper = Q3 + 1.5*IQR\n",
        "    lower = Q1 - 1.5*IQR\n",
        "    mask = ((heart_disease_df[col] > upper) | (heart_disease_df[col] < lower))\n",
        "    outlier |= mask\n",
        "\n",
        "heart_disease_df = heart_disease_df[~outlier]"
      ]
    },
    {
      "cell_type": "markdown",
      "metadata": {
        "id": "3LSKqpFUyTZx"
      },
      "source": [
        "## Data Preprocessing"
      ]
    },
    {
      "cell_type": "markdown",
      "metadata": {
        "id": "qJCtCKY1yLmS"
      },
      "source": [
        "### Encoding"
      ]
    },
    {
      "cell_type": "code",
      "execution_count": 64,
      "metadata": {
        "id": "tZ74O4TayH1b"
      },
      "outputs": [],
      "source": [
        "heart_disease_df = pd.get_dummies(heart_disease_df, columns=['sex', 'cp', 'fbs', 'restecg', 'exang', 'slope', 'thal'], dtype=int)\n",
        "\n",
        "columns = heart_disease_df.columns\n",
        "with open('../.pkl/columns.pkl', 'wb') as f:\n",
        "    pickle.dump(columns, f)"
      ]
    },
    {
      "cell_type": "markdown",
      "metadata": {
        "id": "lNQPzzeXycwj"
      },
      "source": [
        "### Scaling"
      ]
    },
    {
      "cell_type": "code",
      "execution_count": 65,
      "metadata": {
        "id": "7TT5Ep7-yetR"
      },
      "outputs": [],
      "source": [
        "heart_disease_df_scaled = heart_disease_df.copy()\n",
        "\n",
        "scaler = StandardScaler()\n",
        "scale_clos = ['age', 'trestbps', 'chol', 'thalch', 'oldpeak', 'ca']\n",
        "heart_disease_df_scaled[scale_clos] = scaler.fit_transform(heart_disease_df_scaled[scale_clos])\n",
        "\n",
        "with open('../.pkl/scaler.pkl', 'wb') as f:\n",
        "    pickle.dump(scaler, f)"
      ]
    },
    {
      "cell_type": "markdown",
      "metadata": {},
      "source": [
        "## Save preprocessed dataset"
      ]
    },
    {
      "cell_type": "code",
      "execution_count": 66,
      "metadata": {},
      "outputs": [],
      "source": [
        "heart_disease_df_scaled.to_csv('../data/heart_disease_preprocessed.csv', index=False)"
      ]
    }
  ],
  "metadata": {
    "colab": {
      "provenance": [],
      "toc_visible": true
    },
    "kernelspec": {
      "display_name": "Python 3",
      "name": "python3"
    },
    "language_info": {
      "codemirror_mode": {
        "name": "ipython",
        "version": 3
      },
      "file_extension": ".py",
      "mimetype": "text/x-python",
      "name": "python",
      "nbconvert_exporter": "python",
      "pygments_lexer": "ipython3",
      "version": "3.13.1"
    }
  },
  "nbformat": 4,
  "nbformat_minor": 0
}
