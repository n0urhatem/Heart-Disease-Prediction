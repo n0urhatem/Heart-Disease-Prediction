{
  "cells": [
    {
      "cell_type": "markdown",
      "metadata": {
        "id": "4b6ZfFMzwqCt"
      },
      "source": [
        "## Importing Libraries and Setting Up Environment"
      ]
    },
    {
      "cell_type": "code",
      "execution_count": 1,
      "metadata": {
        "colab": {
          "base_uri": "https://localhost:8080/"
        },
        "id": "3akdZ4_ewuVv",
        "outputId": "a397b316-fb4e-4908-f045-20ffe9f1b595"
      },
      "outputs": [],
      "source": [
        "import numpy as np\n",
        "import pickle\n",
        "import os\n",
        "from sklearn.model_selection import GridSearchCV, RandomizedSearchCV\n",
        "\n",
        "import warnings\n",
        "warnings.filterwarnings('ignore')\n",
        "np.random.seed(42)"
      ]
    },
    {
      "cell_type": "code",
      "execution_count": 2,
      "metadata": {
        "id": "4QFQCUI4wxcN"
      },
      "outputs": [],
      "source": [
        "models_dir = '../models'\n",
        "model_files = {\n",
        "    'log': 'log.pkl',\n",
        "    'DT_model': 'DT_model.pkl',\n",
        "    'RF_model': 'RF_model.pkl',\n",
        "    'SVM_model': 'SVM_model.pkl',\n",
        "    'final_model_XGBoost_model': 'final_model_XGBoost_model.pkl',\n",
        "    'Voting_model': 'Voting_model.pkl'\n",
        "}\n",
        "\n",
        "models = {}\n",
        "\n",
        "for name, fname in model_files.items():\n",
        "    path = os.path.join(models_dir, fname)\n",
        "    with open(path, 'rb') as file:\n",
        "        models[name] = pickle.load(file)\n",
        "\n",
        "with open('../.pkl/X_train.pkl', 'rb') as f:\n",
        "    X_train = pickle.load(f)\n",
        "with open('../.pkl/y_train.pkl', 'rb') as f:\n",
        "    y_train = pickle.load(f)"
      ]
    },
    {
      "cell_type": "markdown",
      "metadata": {
        "id": "bVoXEAAt7LBP"
      },
      "source": [
        "## Hyperparameter Tuning"
      ]
    },
    {
      "cell_type": "code",
      "execution_count": 3,
      "metadata": {
        "id": "NIUkh4sJ7Ofn"
      },
      "outputs": [],
      "source": [
        "param_grid_log = {\n",
        "    'C': [0.001, 0.01, 0.1, 1, 10, 100],\n",
        "    'penalty': ['l1', 'l2', 'elasticnet', None],\n",
        "    'solver': ['lbfgs', 'liblinear', 'saga'],\n",
        "    'max_iter': [100, 500, 1000]\n",
        "}\n",
        "\n",
        "param_grid_DT = {\n",
        "    'criterion': ['gini', 'entropy', 'log_loss'],\n",
        "    'splitter': ['best', 'random'],\n",
        "    'max_depth': [None, 5, 10, 20, 50],\n",
        "    'min_samples_split': [2, 5, 10, 20],\n",
        "    'min_samples_leaf': [1, 2, 4, 8]\n",
        "}\n",
        "\n",
        "param_dist_RF = {\n",
        "    'n_estimators': [100, 200, 300],\n",
        "    'max_depth': [None, 10, 20, 30],\n",
        "    'min_samples_split': [2, 5, 10],\n",
        "    'min_samples_leaf': [1, 2, 4],\n",
        "    'bootstrap': [True, False]\n",
        "}\n",
        "\n",
        "param_dist_SVM = {\n",
        "    'C': [0.1, 1, 10, 100],\n",
        "    'kernel': ['linear', 'poly', 'rbf', 'sigmoid'],\n",
        "    'degree': [2, 3, 5],\n",
        "    'gamma': ['scale', 'auto', 0.1, 1, 10]\n",
        "}\n",
        "\n",
        "param_dist_xgb = {\n",
        "    'n_estimators': [100, 200, 300],\n",
        "    'max_depth': [3, 5, 7],\n",
        "    'learning_rate': [0.01, 0.1, 0.2],\n",
        "    'subsample': [0.6, 0.8, 1],\n",
        "    'colsample_bytree': [0.6, 0.8, 1]\n",
        "}\n",
        "\n",
        "param_dist_voting = {\n",
        "    'log_model__C': [0.001, 0.01, 0.1, 1, 10, 100],\n",
        "    'log_model__penalty': ['l1', 'l2', 'elasticnet', None],\n",
        "    'log_model__solver': ['lbfgs', 'liblinear', 'saga'],\n",
        "    'log_model__max_iter': [100, 500, 1000],\n",
        "\n",
        "    'RF_model__n_estimators': [100, 200, 300],\n",
        "    'RF_model__max_depth': [None, 10, 20, 30],\n",
        "    'RF_model__min_samples_split': [2, 5, 10],\n",
        "    'RF_model__min_samples_leaf': [1, 2, 4],\n",
        "    'RF_model__bootstrap': [True, False],\n",
        "\n",
        "    'xgb_model__n_estimators': [100, 200, 300],\n",
        "    'xgb_model__max_depth': [3, 5, 7],\n",
        "    'xgb_model__learning_rate': [0.01, 0.1, 0.2]\n",
        "}\n"
      ]
    },
    {
      "cell_type": "code",
      "execution_count": 4,
      "metadata": {
        "colab": {
          "base_uri": "https://localhost:8080/"
        },
        "id": "DF6GZF_rMQTW",
        "outputId": "c8ccdb97-9e08-4359-f47f-d7b76ee45876"
      },
      "outputs": [
        {
          "name": "stdout",
          "output_type": "stream",
          "text": [
            "Best Score log: 0.8345522898154478\n",
            "Best Params log: {'C': 0.1, 'max_iter': 100, 'penalty': 'l2', 'solver': 'lbfgs'}\n"
          ]
        }
      ],
      "source": [
        "grid_log = GridSearchCV(models['log'], param_grid=param_grid_log, cv=5, scoring='accuracy', n_jobs=-1)\n",
        "grid_log.fit(X_train, y_train)\n",
        "print('Best Score log:', grid_log.best_score_)\n",
        "print('Best Params log:', grid_log.best_params_)"
      ]
    },
    {
      "cell_type": "code",
      "execution_count": 5,
      "metadata": {
        "colab": {
          "base_uri": "https://localhost:8080/"
        },
        "id": "H1bc3DQDMmlC",
        "outputId": "fa3a7c9b-321d-4b8a-ca43-754e5385ce37"
      },
      "outputs": [
        {
          "name": "stdout",
          "output_type": "stream",
          "text": [
            "Best Score DT: 0.7847573479152427\n",
            "Best Params DT: {'criterion': 'entropy', 'max_depth': 5, 'min_samples_leaf': 2, 'min_samples_split': 10, 'splitter': 'random'}\n"
          ]
        }
      ],
      "source": [
        "grid_DT = GridSearchCV(models['DT_model'], param_grid=param_grid_DT, cv=5, scoring='accuracy', n_jobs=-1)\n",
        "grid_DT.fit(X_train, y_train)\n",
        "print('Best Score DT:', grid_DT.best_score_)\n",
        "print('Best Params DT:', grid_DT.best_params_)"
      ]
    },
    {
      "cell_type": "code",
      "execution_count": 6,
      "metadata": {
        "colab": {
          "base_uri": "https://localhost:8080/"
        },
        "id": "0MpX4XITMmXu",
        "outputId": "9c9f9a46-8c43-4c4e-c33c-4a3610475aac"
      },
      "outputs": [
        {
          "name": "stdout",
          "output_type": "stream",
          "text": [
            "Best Score RF: 0.8215223097112861\n",
            "Best Params RF: {'n_estimators': 100, 'min_samples_split': 10, 'min_samples_leaf': 2, 'max_depth': None, 'bootstrap': True}\n"
          ]
        }
      ],
      "source": [
        "grid_RF = RandomizedSearchCV(models['RF_model'], param_distributions=param_dist_RF, cv=3, scoring='accuracy', n_jobs=-1)\n",
        "grid_RF.fit(X_train, y_train)\n",
        "print('Best Score RF:', grid_RF.best_score_)\n",
        "print('Best Params RF:', grid_RF.best_params_)"
      ]
    },
    {
      "cell_type": "code",
      "execution_count": 7,
      "metadata": {
        "colab": {
          "base_uri": "https://localhost:8080/"
        },
        "id": "FBnLNyaAMmFb",
        "outputId": "f4b97212-b5a1-4072-8016-666906c23ccd"
      },
      "outputs": [
        {
          "name": "stdout",
          "output_type": "stream",
          "text": [
            "Best Score SVM: 0.8240601503759398\n",
            "Best Params SVM: {'kernel': 'rbf', 'gamma': 0.1, 'degree': 2, 'C': 1}\n"
          ]
        }
      ],
      "source": [
        "grid_SVM = RandomizedSearchCV(models['SVM_model'], param_distributions=param_dist_SVM, cv=5, scoring='accuracy', n_jobs=-1)\n",
        "grid_SVM.fit(X_train, y_train)\n",
        "print('Best Score SVM:', grid_SVM.best_score_)\n",
        "print('Best Params SVM:', grid_SVM.best_params_)"
      ]
    },
    {
      "cell_type": "code",
      "execution_count": 8,
      "metadata": {
        "colab": {
          "base_uri": "https://localhost:8080/"
        },
        "id": "_B5ZbCkNM9-F",
        "outputId": "69afc170-7063-4004-92ce-817d48b05a9f"
      },
      "outputs": [
        {
          "name": "stdout",
          "output_type": "stream",
          "text": [
            "Best Score xgb: 0.8215223097112861\n",
            "Best Params xgb: {'subsample': 0.6, 'n_estimators': 300, 'max_depth': 3, 'learning_rate': 0.01, 'colsample_bytree': 0.8}\n"
          ]
        }
      ],
      "source": [
        "grid_xgb = RandomizedSearchCV(models['final_model_XGBoost_model'], param_distributions=param_dist_xgb, n_iter=20, cv=3, scoring='accuracy', n_jobs=-1)\n",
        "grid_xgb.fit(X_train, y_train)\n",
        "print('Best Score xgb:', grid_xgb.best_score_)\n",
        "print('Best Params xgb:', grid_xgb.best_params_)"
      ]
    },
    {
      "cell_type": "code",
      "execution_count": 9,
      "metadata": {},
      "outputs": [
        {
          "name": "stdout",
          "output_type": "stream",
          "text": [
            "Best Score voting: 0.8188976377952756\n",
            "Best Params voting: {'xgb_model__n_estimators': 300, 'xgb_model__max_depth': 7, 'xgb_model__learning_rate': 0.01, 'log_model__solver': 'liblinear', 'log_model__penalty': 'l2', 'log_model__max_iter': 1000, 'log_model__C': 0.01, 'RF_model__n_estimators': 300, 'RF_model__min_samples_split': 10, 'RF_model__min_samples_leaf': 1, 'RF_model__max_depth': 20, 'RF_model__bootstrap': False}\n"
          ]
        }
      ],
      "source": [
        "grid_voting = RandomizedSearchCV(models['Voting_model'], param_distributions=param_dist_voting, n_iter=20, cv=3, scoring='accuracy', n_jobs=-1)\n",
        "grid_voting.fit(X_train, y_train)\n",
        "print('Best Score voting:', grid_voting.best_score_)\n",
        "print('Best Params voting:', grid_voting.best_params_)"
      ]
    }
  ],
  "metadata": {
    "colab": {
      "provenance": [],
      "toc_visible": true
    },
    "kernelspec": {
      "display_name": "Python 3",
      "name": "python3"
    },
    "language_info": {
      "codemirror_mode": {
        "name": "ipython",
        "version": 3
      },
      "file_extension": ".py",
      "mimetype": "text/x-python",
      "name": "python",
      "nbconvert_exporter": "python",
      "pygments_lexer": "ipython3",
      "version": "3.13.1"
    }
  },
  "nbformat": 4,
  "nbformat_minor": 0
}
