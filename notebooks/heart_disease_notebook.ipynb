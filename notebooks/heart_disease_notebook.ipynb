{
  "cells": [
    {
      "cell_type": "markdown",
      "metadata": {
        "id": "4b6ZfFMzwqCt"
      },
      "source": [
        "# Importing Libraries and Setting Up Environment"
      ]
    },
    {
      "cell_type": "code",
      "execution_count": null,
      "metadata": {
        "colab": {
          "base_uri": "https://localhost:8080/"
        },
        "id": "3akdZ4_ewuVv",
        "outputId": "a397b316-fb4e-4908-f045-20ffe9f1b595"
      },
      "outputs": [],
      "source": [
        "import pandas as pd\n",
        "import numpy as np\n",
        "\n",
        "import matplotlib.pyplot as plt\n",
        "import seaborn as sns\n",
        "\n",
        "from sklearn.model_selection import train_test_split, GridSearchCV, RandomizedSearchCV\n",
        "from sklearn.preprocessing import StandardScaler\n",
        "\n",
        "from sklearn.decomposition import PCA\n",
        "\n",
        "from sklearn.linear_model import LogisticRegression\n",
        "from sklearn.svm import SVC\n",
        "from sklearn.tree import DecisionTreeClassifier\n",
        "\n",
        "from sklearn.ensemble import RandomForestClassifier, VotingClassifier\n",
        "from xgboost import XGBClassifier\n",
        "\n",
        "from sklearn.metrics import accuracy_score, precision_score, recall_score, f1_score, balanced_accuracy_score, confusion_matrix, classification_report, roc_curve, auc, silhouette_score\n",
        "\n",
        "from sklearn.cluster import KMeans\n",
        "from scipy.cluster.hierarchy import linkage, dendrogram\n",
        "\n",
        "import pickle\n",
        "\n",
        "import warnings\n",
        "warnings.filterwarnings('ignore')\n",
        "sns.set_style('darkgrid')\n",
        "np.random.seed(42)"
      ]
    },
    {
      "cell_type": "code",
      "execution_count": null,
      "metadata": {
        "id": "4QFQCUI4wxcN"
      },
      "outputs": [],
      "source": [
        "heart_disease_df = pd.read_csv('../data/heart_disease.csv')"
      ]
    },
    {
      "cell_type": "markdown",
      "metadata": {
        "id": "VV5WVGcRw2Ub"
      },
      "source": [
        "# Exploratory Data Analysis (EDA)"
      ]
    },
    {
      "cell_type": "code",
      "execution_count": null,
      "metadata": {
        "colab": {
          "base_uri": "https://localhost:8080/"
        },
        "id": "wDr6ToWMw0Wk",
        "outputId": "a0aa3109-e1fd-4501-9ad1-d0af51f67f62"
      },
      "outputs": [],
      "source": [
        "heart_disease_df.shape"
      ]
    },
    {
      "cell_type": "code",
      "execution_count": null,
      "metadata": {
        "colab": {
          "base_uri": "https://localhost:8080/"
        },
        "id": "grW9jODbxAak",
        "outputId": "75299d34-e55b-4d2c-f401-871766c069b5"
      },
      "outputs": [],
      "source": [
        "heart_disease_df.info()"
      ]
    },
    {
      "cell_type": "code",
      "execution_count": null,
      "metadata": {
        "colab": {
          "base_uri": "https://localhost:8080/"
        },
        "id": "1Y4A45EFxBBD",
        "outputId": "c090bc2b-8258-4d1e-fa4a-5fb60ebdc298"
      },
      "outputs": [],
      "source": [
        "print(heart_disease_df.head())"
      ]
    },
    {
      "cell_type": "code",
      "execution_count": null,
      "metadata": {
        "colab": {
          "base_uri": "https://localhost:8080/",
          "height": 300
        },
        "id": "8zfCu30LxI6V",
        "outputId": "6a33f1ee-f9a1-4c03-e985-d2ff2e7b847d"
      },
      "outputs": [],
      "source": [
        "heart_disease_df.describe().round(2)"
      ]
    },
    {
      "cell_type": "markdown",
      "metadata": {
        "id": "w2Sfy6lXxNwq"
      },
      "source": [
        "## Data Quality Checks"
      ]
    },
    {
      "cell_type": "code",
      "execution_count": null,
      "metadata": {
        "colab": {
          "base_uri": "https://localhost:8080/",
          "height": 586
        },
        "id": "gQr2TKdhxJh9",
        "outputId": "6a641de8-8a97-4962-91de-1710065b719d"
      },
      "outputs": [],
      "source": [
        "heart_disease_df.isna().sum()"
      ]
    },
    {
      "cell_type": "code",
      "execution_count": null,
      "metadata": {
        "id": "bsEllnDXxR9E"
      },
      "outputs": [],
      "source": [
        "heart_disease_df.drop(heart_disease_df[['id', 'dataset']], axis=1, inplace=True)\n",
        "heart_disease_df['num'] = heart_disease_df['num'].apply(lambda x: 1 if x > 0 else 0)"
      ]
    },
    {
      "cell_type": "code",
      "execution_count": null,
      "metadata": {
        "id": "2aK-r_YsxT19"
      },
      "outputs": [],
      "source": [
        "heart_disease_df.drop(heart_disease_df[heart_disease_df['thal'].isnull() & heart_disease_df['slope'].isnull()].index, inplace=True)\n",
        "\n",
        "mean_cols = ['trestbps', 'chol', 'thalch', 'oldpeak']\n",
        "heart_disease_df[mean_cols] = heart_disease_df[mean_cols].fillna(heart_disease_df[mean_cols].mean())\n",
        "\n",
        "heart_disease_df['ca'].fillna(heart_disease_df['ca'].median(), inplace=True)\n",
        "\n",
        "mode_cols = ['fbs', 'restecg', 'exang', 'slope', 'thal']\n",
        "for col in mode_cols:\n",
        "    heart_disease_df[col].fillna(heart_disease_df[col].mode().iloc[0], inplace=True)"
      ]
    },
    {
      "cell_type": "code",
      "execution_count": null,
      "metadata": {
        "colab": {
          "base_uri": "https://localhost:8080/",
          "height": 523
        },
        "id": "dgHCGej4xWCV",
        "outputId": "061e69b5-bd0a-4897-b2b4-ae573fd0edf9"
      },
      "outputs": [],
      "source": [
        "heart_disease_df.isna().sum()"
      ]
    },
    {
      "cell_type": "code",
      "execution_count": null,
      "metadata": {
        "id": "8eEtCKKCxX3U"
      },
      "outputs": [],
      "source": [
        "outlier_clos = ['age', 'trestbps', 'chol', 'thalch', 'oldpeak', 'ca']\n",
        "outlier = pd.Series(False, index=heart_disease_df.index)\n",
        "\n",
        "for col in outlier_clos:\n",
        "    Q1 = heart_disease_df[col].quantile(0.25)\n",
        "    Q3 = heart_disease_df[col].quantile(0.75)\n",
        "    IQR = Q3 - Q1\n",
        "    upper = Q3 + 1.5*IQR\n",
        "    lower = Q1 - 1.5*IQR\n",
        "    mask = ((heart_disease_df[col] > upper) | (heart_disease_df[col] < lower))\n",
        "    outlier |= mask\n",
        "\n",
        "heart_disease_df = heart_disease_df[~outlier]"
      ]
    },
    {
      "cell_type": "markdown",
      "metadata": {
        "id": "DC7CZC87xdyS"
      },
      "source": [
        "## Data Visualization"
      ]
    },
    {
      "cell_type": "code",
      "execution_count": null,
      "metadata": {
        "colab": {
          "base_uri": "https://localhost:8080/",
          "height": 504
        },
        "id": "bKzqXvHHxaK1",
        "outputId": "3308c0b6-476a-4faa-b01a-1cec234bd54e"
      },
      "outputs": [],
      "source": [
        "fig, ax = plt.subplots(2, 2, figsize=(9, 7))\n",
        "\n",
        "sns.histplot(x= heart_disease_df['age'], ax=ax[0,0])\n",
        "sns.histplot(x= heart_disease_df['trestbps'], ax=ax[0,1])\n",
        "sns.histplot(x= heart_disease_df['oldpeak'], ax=ax[1,0])\n",
        "sns.histplot(x= heart_disease_df['thalch'], ax=ax[1,1])\n",
        "\n",
        "for axes in ax.flat:\n",
        "    axes.set_ylabel('')\n",
        "\n",
        "plt.tight_layout()\n",
        "plt.show()"
      ]
    },
    {
      "cell_type": "code",
      "execution_count": null,
      "metadata": {
        "colab": {
          "base_uri": "https://localhost:8080/",
          "height": 449
        },
        "id": "fdZrw4SGxstl",
        "outputId": "e8e9a6ad-362b-4106-a369-f95268044168"
      },
      "outputs": [],
      "source": [
        "sns.scatterplot(heart_disease_df, x='age', y='chol', hue='sex')\n",
        "plt.show()"
      ]
    },
    {
      "cell_type": "code",
      "execution_count": null,
      "metadata": {
        "colab": {
          "base_uri": "https://localhost:8080/",
          "height": 621
        },
        "id": "jdpBMTDdxxC0",
        "outputId": "6de7d6e4-fb03-4aad-dac8-b3b9dd2adb85"
      },
      "outputs": [],
      "source": [
        "pairplot_data = heart_disease_df.drop(['fbs', 'exang', 'ca'], axis=1)\n",
        "pairplot_data['num'] = pairplot_data['num'].astype('category')\n",
        "\n",
        "plt.figure(figsize=(20,16))\n",
        "sns.pairplot(pairplot_data, hue='num', diag_kind='kde', plot_kws={'alpha':0.7,'s':50}, height=2)\n",
        "plt.suptitle('Analysis of Feature Relationships by Disease Severity', fontsize=18, fontweight='bold')\n",
        "plt.legend()\n",
        "plt.tight_layout()\n",
        "plt.show()"
      ]
    },
    {
      "cell_type": "code",
      "execution_count": null,
      "metadata": {
        "colab": {
          "base_uri": "https://localhost:8080/",
          "height": 519
        },
        "id": "z7dzC-w1x2kr",
        "outputId": "9efd5b36-2433-49e5-89a0-b59158886f43"
      },
      "outputs": [],
      "source": [
        "corr = heart_disease_df[['age', 'trestbps', 'chol', 'thalch', 'oldpeak', 'num']].corr()\n",
        "sns.heatmap(corr, annot=True, cmap='coolwarm')\n",
        "plt.title(' Correlation Matrix of Heart Disease Features', y=1.04, fontsize=17, fontweight='bold')\n",
        "plt.xticks(rotation=45, fontsize=12)\n",
        "plt.yticks(fontsize=12)\n",
        "plt.show()"
      ]
    },
    {
      "cell_type": "markdown",
      "metadata": {
        "id": "3LSKqpFUyTZx"
      },
      "source": [
        "## Data Preprocessing"
      ]
    },
    {
      "cell_type": "markdown",
      "metadata": {
        "id": "qJCtCKY1yLmS"
      },
      "source": [
        "### Encoding"
      ]
    },
    {
      "cell_type": "code",
      "execution_count": null,
      "metadata": {
        "id": "tZ74O4TayH1b"
      },
      "outputs": [],
      "source": [
        "heart_disease_df = pd.get_dummies(heart_disease_df, columns=['sex', 'cp', 'fbs', 'restecg', 'exang', 'slope', 'thal'], dtype=int)"
      ]
    },
    {
      "cell_type": "markdown",
      "metadata": {
        "id": "lNQPzzeXycwj"
      },
      "source": [
        "### Scaling"
      ]
    },
    {
      "cell_type": "code",
      "execution_count": null,
      "metadata": {
        "id": "7TT5Ep7-yetR"
      },
      "outputs": [],
      "source": [
        "heart_disease_df_scaled = heart_disease_df.copy()\n",
        "\n",
        "scaler = StandardScaler()\n",
        "scale_clos = ['age', 'trestbps', 'chol', 'thalch', 'oldpeak', 'ca']\n",
        "heart_disease_df_scaled[scale_clos] = scaler.fit_transform(heart_disease_df_scaled[scale_clos])"
      ]
    },
    {
      "cell_type": "markdown",
      "metadata": {
        "id": "NbOZZkouylib"
      },
      "source": [
        "### Split X & Y"
      ]
    },
    {
      "cell_type": "code",
      "execution_count": null,
      "metadata": {
        "id": "fyOJvohjynUx"
      },
      "outputs": [],
      "source": [
        "X = heart_disease_df_scaled.drop('num', axis=1)\n",
        "y = heart_disease_df_scaled['num']"
      ]
    },
    {
      "cell_type": "markdown",
      "metadata": {
        "id": "wQZHyJu8yuE5"
      },
      "source": [
        "### Dimension Reduction (PCA)"
      ]
    },
    {
      "cell_type": "code",
      "execution_count": null,
      "metadata": {
        "colab": {
          "base_uri": "https://localhost:8080/"
        },
        "id": "vX4CKnF6y6vp",
        "outputId": "e4a60f5e-485c-4ec0-ebed-633dfbf2f945"
      },
      "outputs": [],
      "source": [
        "pca = PCA(0.95)\n",
        "X_pca = pca.fit_transform(X)\n",
        "pca.n_components_"
      ]
    },
    {
      "cell_type": "code",
      "execution_count": null,
      "metadata": {
        "colab": {
          "base_uri": "https://localhost:8080/",
          "height": 472
        },
        "id": "QyEMUASGzByA",
        "outputId": "de269562-c43e-431b-9083-5a4cd0665b8b"
      },
      "outputs": [],
      "source": [
        "plt.scatter(X_pca[:, 0], X_pca[:, 1], c=heart_disease_df['num'], cmap='viridis', alpha=0.7, edgecolor='k')\n",
        "plt.xlabel('First Principal Component')\n",
        "plt.ylabel('Second Principal Component')\n",
        "plt.title('PCA: First Two Components')\n",
        "plt.show()"
      ]
    },
    {
      "cell_type": "markdown",
      "metadata": {
        "id": "-Wb0N-AszL2J"
      },
      "source": [
        "### Data Splitting"
      ]
    },
    {
      "cell_type": "code",
      "execution_count": null,
      "metadata": {
        "id": "25PzLD-izEoz"
      },
      "outputs": [],
      "source": [
        "np.random.seed(42)\n",
        "X_train, X_test, y_train, y_test = train_test_split(X_pca, y, test_size=0.25, random_state=42, stratify=y)"
      ]
    },
    {
      "cell_type": "markdown",
      "metadata": {
        "id": "FnKCo81IzS0I"
      },
      "source": [
        "# Supervised Learning - Classification"
      ]
    },
    {
      "cell_type": "markdown",
      "metadata": {
        "id": "ZwBtT-xmzotv"
      },
      "source": [
        "## Logistic Reg Classification"
      ]
    },
    {
      "cell_type": "code",
      "execution_count": null,
      "metadata": {
        "colab": {
          "base_uri": "https://localhost:8080/"
        },
        "id": "BCrLHRrCzxkA",
        "outputId": "3bcec141-4d83-44c9-f187-2724d334db95"
      },
      "outputs": [],
      "source": [
        "log_model = LogisticRegression()\n",
        "log_model.fit(X_train, y_train)\n",
        "\n",
        "y_pred_log = log_model.predict(X_test)\n",
        "y_pred_prob_log = log_model.predict_proba(X_test)\n",
        "\n",
        "print(\"accuracy_score\",accuracy_score(y_test, y_pred_log))\n",
        "print('f1_score',f1_score(y_test, y_pred_log))\n",
        "print('balanced_accuracy_score',balanced_accuracy_score(y_test, y_pred_log))\n",
        "print('precision_score',precision_score(y_test, y_pred_log))\n",
        "print('recall_score',recall_score(y_test, y_pred_log))\n",
        "\n",
        "print(classification_report(y_test, y_pred_log))\n",
        "cm = confusion_matrix(y_test, y_pred_log)\n",
        "cm"
      ]
    },
    {
      "cell_type": "code",
      "execution_count": null,
      "metadata": {
        "colab": {
          "base_uri": "https://localhost:8080/",
          "height": 472
        },
        "id": "ZQsUzupqz7Xn",
        "outputId": "68b8106a-a819-4b05-b05b-baf9eaa40eaf"
      },
      "outputs": [],
      "source": [
        "sns.heatmap(cm, cmap='Greens', annot=True)\n",
        "plt.title('Confusion Matrix (logistic)')\n",
        "plt.xlabel('Predict')\n",
        "plt.ylabel('Actual')\n",
        "plt.show()"
      ]
    },
    {
      "cell_type": "code",
      "execution_count": null,
      "metadata": {
        "colab": {
          "base_uri": "https://localhost:8080/",
          "height": 506
        },
        "id": "vcfLJxr70Gga",
        "outputId": "5979b8ab-04b9-4f0d-f1b1-dd9167f26663"
      },
      "outputs": [],
      "source": [
        "fpr, tpr, _ = roc_curve(y_test, y_pred_prob_log[:, 1])\n",
        "roc_auc = auc(fpr, tpr)\n",
        "\n",
        "plt.figure(figsize=(8, 6))\n",
        "plt.plot(fpr, tpr, label=f'AUC = {roc_auc:.2f}')\n",
        "plt.plot([0, 1], [0, 1], 'k--')\n",
        "plt.xlim([0.0, 1.0])\n",
        "plt.ylim([0.0, 1.0])\n",
        "plt.title('ROC curve (logistic)')\n",
        "plt.xlabel('False Positive Rate')\n",
        "plt.ylabel('True Positive Rate')\n",
        "plt.legend()\n",
        "plt.grid(True)\n",
        "plt.show()"
      ]
    },
    {
      "cell_type": "markdown",
      "metadata": {
        "id": "5b3_JvYp0gJh"
      },
      "source": [
        "## Decision Tree"
      ]
    },
    {
      "cell_type": "code",
      "execution_count": null,
      "metadata": {
        "colab": {
          "base_uri": "https://localhost:8080/"
        },
        "id": "g5uue9XO0cgx",
        "outputId": "b9ca0fbc-0dc8-4e5b-96f8-6755c12ad5d3"
      },
      "outputs": [],
      "source": [
        "DT_model = DecisionTreeClassifier(criterion='gini', random_state=42)\n",
        "DT_model.fit(X_train, y_train)\n",
        "\n",
        "y_pred_DT = DT_model.predict(X_test)\n",
        "y_pred_prob_DT = DT_model.predict_proba(X_test)\n",
        "\n",
        "print(\"accuracy_score\",accuracy_score(y_test, y_pred_DT))\n",
        "print('f1_score',f1_score(y_test, y_pred_DT))\n",
        "print('balanced_accuracy_score',balanced_accuracy_score(y_test, y_pred_DT))\n",
        "print('precision_score',precision_score(y_test, y_pred_DT))\n",
        "print('recall_score',recall_score(y_test, y_pred_DT))\n",
        "\n",
        "print(classification_report(y_test, y_pred_DT))\n",
        "cm = confusion_matrix(y_test, y_pred_DT)\n",
        "cm"
      ]
    },
    {
      "cell_type": "code",
      "execution_count": null,
      "metadata": {
        "colab": {
          "base_uri": "https://localhost:8080/",
          "height": 472
        },
        "id": "ZKkUSxhe0sK5",
        "outputId": "7be4f94a-1784-4f53-d9b5-14cd60b77896"
      },
      "outputs": [],
      "source": [
        "sns.heatmap(cm, cmap='Greens', annot=True, fmt='.2f')\n",
        "plt.title('Confusion Matrix (Decision Tree)')\n",
        "plt.xlabel('Predict')\n",
        "plt.ylabel('Actual')\n",
        "plt.show()"
      ]
    },
    {
      "cell_type": "code",
      "execution_count": null,
      "metadata": {
        "colab": {
          "base_uri": "https://localhost:8080/",
          "height": 506
        },
        "id": "iDXaG-Em04L7",
        "outputId": "466e973a-eb22-4652-ac99-6c30b580cf17"
      },
      "outputs": [],
      "source": [
        "fpr, tpr, _ = roc_curve(y_test, y_pred_prob_DT[:, 1])\n",
        "roc_auc = auc(fpr, tpr)\n",
        "\n",
        "plt.figure(figsize=(8, 6))\n",
        "plt.plot(fpr, tpr, label=f'AUC = {roc_auc:.2f}')\n",
        "plt.plot([0, 1], [0, 1], 'k--')\n",
        "plt.xlim([0.0, 1.0])\n",
        "plt.ylim([0.0, 1.0])\n",
        "plt.title('ROC curve (Decision Tree)')\n",
        "plt.xlabel('False Positive Rate')\n",
        "plt.ylabel('True Positive Rate')\n",
        "plt.legend()\n",
        "plt.grid(True)\n",
        "plt.show()"
      ]
    },
    {
      "cell_type": "markdown",
      "metadata": {
        "id": "m50FfXgQ1Fk-"
      },
      "source": [
        "## Random Forest"
      ]
    },
    {
      "cell_type": "code",
      "execution_count": null,
      "metadata": {
        "colab": {
          "base_uri": "https://localhost:8080/"
        },
        "id": "DJxbcW-K1BAo",
        "outputId": "b466eebe-6ae9-481b-9052-a15733a21613"
      },
      "outputs": [],
      "source": [
        "RF_model = RandomForestClassifier(random_state=42)\n",
        "RF_model.fit(X_train, y_train)\n",
        "\n",
        "y_pred_RF = RF_model.predict(X_test)\n",
        "y_pred_prob_RF = RF_model.predict_proba(X_test)\n",
        "\n",
        "print(\"accuracy_score\",accuracy_score(y_test, y_pred_RF))\n",
        "print('f1_score',f1_score(y_test, y_pred_RF))\n",
        "print('balanced_accuracy_score',balanced_accuracy_score(y_test, y_pred_RF))\n",
        "print('precision_score',precision_score(y_test, y_pred_RF))\n",
        "print('recall_score',recall_score(y_test, y_pred_RF))\n",
        "\n",
        "print(classification_report(y_test, y_pred_RF))\n",
        "cm = confusion_matrix(y_test, y_pred_RF)\n",
        "cm"
      ]
    },
    {
      "cell_type": "code",
      "execution_count": null,
      "metadata": {
        "colab": {
          "base_uri": "https://localhost:8080/",
          "height": 472
        },
        "id": "85ZeUARw1Ljo",
        "outputId": "98ac9a7c-a1d6-4b22-f6f8-c3b53ad3a85c"
      },
      "outputs": [],
      "source": [
        "sns.heatmap(cm, cmap='Greens', annot=True, fmt='.2f')\n",
        "plt.title('Confusion Matrix (Random Forest)')\n",
        "plt.xlabel('Predict')\n",
        "plt.ylabel('Actual')\n",
        "plt.show()"
      ]
    },
    {
      "cell_type": "code",
      "execution_count": null,
      "metadata": {
        "colab": {
          "base_uri": "https://localhost:8080/",
          "height": 506
        },
        "id": "M9M1oXlQ1YM_",
        "outputId": "897a4fc6-d852-4b25-c12a-bbc7dc64e12a"
      },
      "outputs": [],
      "source": [
        "fpr, tpr, _ = roc_curve(y_test, y_pred_prob_RF[:, 1])\n",
        "roc_auc = auc(fpr, tpr)\n",
        "\n",
        "plt.figure(figsize=(8, 6))\n",
        "plt.plot(fpr, tpr, label=f'AUC = {roc_auc:.2f}')\n",
        "plt.plot([0, 1], [0, 1], 'k--')\n",
        "plt.xlim([0.0, 1.0])\n",
        "plt.ylim([0.0, 1.0])\n",
        "plt.title('ROC curve (Random Forest)')\n",
        "plt.xlabel('False Positive Rate')\n",
        "plt.ylabel('True Positive Rate')\n",
        "plt.legend()\n",
        "plt.grid(True)\n",
        "plt.show()"
      ]
    },
    {
      "cell_type": "markdown",
      "metadata": {
        "id": "kWrLxHKb1kvW"
      },
      "source": [
        "## Support Vector Machine (SVM)"
      ]
    },
    {
      "cell_type": "code",
      "execution_count": null,
      "metadata": {
        "colab": {
          "base_uri": "https://localhost:8080/"
        },
        "id": "CkoNuldI1g8g",
        "outputId": "72a2c967-2faf-4311-91bf-66ac5ecfc385"
      },
      "outputs": [],
      "source": [
        "SVM_model = SVC(kernel='linear', degree=5, random_state=42)\n",
        "SVM_model.fit(X_train, y_train)\n",
        "\n",
        "y_pred_SVM = SVM_model.predict(X_test)\n",
        "\n",
        "print(\"accuracy_score\",accuracy_score(y_test, y_pred_SVM))\n",
        "print('f1_score',f1_score(y_test, y_pred_SVM))\n",
        "print('balanced_accuracy_score',balanced_accuracy_score(y_test, y_pred_SVM))\n",
        "print('precision_score',precision_score(y_test, y_pred_SVM))\n",
        "print('recall_score',recall_score(y_test, y_pred_SVM))\n",
        "\n",
        "print(classification_report(y_test, y_pred_SVM))\n",
        "cm = confusion_matrix(y_test, y_pred_SVM)\n",
        "cm"
      ]
    },
    {
      "cell_type": "code",
      "execution_count": null,
      "metadata": {
        "colab": {
          "base_uri": "https://localhost:8080/",
          "height": 472
        },
        "id": "Jomsn0lO1kDX",
        "outputId": "bd24bad0-6482-491e-b77c-9990651c860b"
      },
      "outputs": [],
      "source": [
        "sns.heatmap(cm, cmap='Greens', annot=True, fmt='.2f')\n",
        "plt.title('Confusion Matrix (SVM)')\n",
        "plt.xlabel('Predict')\n",
        "plt.ylabel('Actual')\n",
        "plt.show()"
      ]
    },
    {
      "cell_type": "markdown",
      "metadata": {
        "id": "TiD203Ta2KUV"
      },
      "source": [
        "## XGBoost"
      ]
    },
    {
      "cell_type": "code",
      "execution_count": null,
      "metadata": {
        "colab": {
          "base_uri": "https://localhost:8080/"
        },
        "id": "VPDrlxAj2NLQ",
        "outputId": "bcab1358-9de9-4d51-864a-2ecebeb245ed"
      },
      "outputs": [],
      "source": [
        "xgb_model = XGBClassifier(subsample=0.2, n_estimators=250, max_depth=3, learning_rate=0.01, colsample_bytree=0.8)\n",
        "xgb_model.fit(X_train, y_train)\n",
        "y_pred_xgb = xgb_model.predict(X_test)\n",
        "y_pred_prob = xgb_model.predict_proba(X_test)\n",
        "\n",
        "print(\"accuracy_score\",accuracy_score(y_test, y_pred_xgb))\n",
        "print('f1_score',f1_score(y_test, y_pred_xgb))\n",
        "print('balanced_accuracy_score',balanced_accuracy_score(y_test, y_pred_xgb))\n",
        "print('precision_score',precision_score(y_test, y_pred_xgb))\n",
        "print('recall_score',recall_score(y_test, y_pred_xgb))\n",
        "\n",
        "print(classification_report(y_test, y_pred_xgb))\n",
        "cm = confusion_matrix(y_test, y_pred_xgb)\n",
        "cm"
      ]
    },
    {
      "cell_type": "code",
      "execution_count": null,
      "metadata": {
        "colab": {
          "base_uri": "https://localhost:8080/",
          "height": 487
        },
        "id": "b_TvaA692dl9",
        "outputId": "b14e373f-fbd0-483c-b9fd-836252753adc"
      },
      "outputs": [],
      "source": [
        "cm = confusion_matrix(y_test, y_pred_xgb)\n",
        "sns.heatmap(cm, annot=True, fmt='d', cmap='Greens')\n",
        "plt.xlabel('Predicted')\n",
        "plt.ylabel('Actual')\n",
        "plt.title('Confusion Matrix - XGBoost')\n",
        "\n",
        "plt.tight_layout()\n",
        "plt.show()"
      ]
    },
    {
      "cell_type": "markdown",
      "metadata": {
        "id": "cqE3GnQG3Ao1"
      },
      "source": [
        "## Voting Classifier"
      ]
    },
    {
      "cell_type": "code",
      "execution_count": null,
      "metadata": {
        "colab": {
          "base_uri": "https://localhost:8080/"
        },
        "id": "cyKYS2vd3Fac",
        "outputId": "7b9c5c66-1496-40ad-a48e-46fbafe6dd4b"
      },
      "outputs": [],
      "source": [
        "voting_model = VotingClassifier(estimators=[\n",
        "    ('log_model', log_model),\n",
        "    ('RF_model', RF_model),\n",
        "    ('xgb_model', xgb_model)\n",
        "], voting='hard')\n",
        "\n",
        "voting_model.fit(X_train, y_train)\n",
        "y_pred_voting = voting_model.predict(X_test)\n",
        "# y_pred_prob_voting = voting_model.predict_proba(X_test)\n",
        "\n",
        "print(\"accuracy_score\",accuracy_score(y_test, y_pred_voting))\n",
        "print('f1_score',f1_score(y_test, y_pred_voting))\n",
        "print('balanced_accuracy_score',balanced_accuracy_score(y_test, y_pred_voting))\n",
        "print('precision_score',precision_score(y_test, y_pred_voting))\n",
        "print('recall_score',recall_score(y_test, y_pred_voting))\n",
        "\n",
        "print(classification_report(y_test, y_pred_voting))\n",
        "cm = confusion_matrix(y_test, y_pred_voting)\n",
        "cm"
      ]
    },
    {
      "cell_type": "markdown",
      "metadata": {
        "id": "bVoXEAAt7LBP"
      },
      "source": [
        "## Hyperparameter Tuning"
      ]
    },
    {
      "cell_type": "code",
      "execution_count": null,
      "metadata": {
        "id": "NIUkh4sJ7Ofn"
      },
      "outputs": [],
      "source": [
        "param_grid_log = {\n",
        "    'C': [0.001, 0.01, 0.1, 1, 10, 100],\n",
        "    'penalty': ['l1', 'l2', 'elasticnet', None],\n",
        "    'solver': ['lbfgs', 'liblinear', 'saga'],\n",
        "    'max_iter': [100, 500, 1000]\n",
        "}\n",
        "\n",
        "param_grid_DT = {\n",
        "    'criterion': ['gini', 'entropy', 'log_loss'],\n",
        "    'splitter': ['best', 'random'],\n",
        "    'max_depth': [None, 5, 10, 20, 50],\n",
        "    'min_samples_split': [2, 5, 10, 20],\n",
        "    'min_samples_leaf': [1, 2, 4, 8]\n",
        "}\n",
        "\n",
        "param_dist_RF = {\n",
        "    'n_estimators': [100, 200, 300],\n",
        "    'max_depth': [None, 10, 20, 30],\n",
        "    'min_samples_split': [2, 5, 10],\n",
        "    'min_samples_leaf': [1, 2, 4],\n",
        "    'bootstrap': [True, False]\n",
        "}\n",
        "\n",
        "param_dist_SVM = {\n",
        "    'C': [0.1, 1, 10, 100],\n",
        "    'kernel': ['linear', 'poly', 'rbf', 'sigmoid'],\n",
        "    'degree': [2, 3, 5],\n",
        "    'gamma': ['scale', 'auto', 0.1, 1, 10]\n",
        "}\n",
        "\n",
        "param_dist_xgb = {\n",
        "    'n_estimators': [100, 200, 300],\n",
        "    'max_depth': [3, 5, 7],\n",
        "    'learning_rate': [0.01, 0.1, 0.2],\n",
        "    'subsample': [0.6, 0.8, 1],\n",
        "    'colsample_bytree': [0.6, 0.8, 1]\n",
        "}\n",
        "\n",
        "param_dist_voting = {\n",
        "    'log_model__C': [0.001, 0.01, 0.1, 1, 10, 100],\n",
        "    'log_model__penalty': ['l1', 'l2', 'elasticnet', None],\n",
        "    'log_model__solver': ['lbfgs', 'liblinear', 'saga'],\n",
        "    'log_model__max_iter': [100, 500, 1000],\n",
        "\n",
        "    'RF_model__n_estimators': [100, 200, 300],\n",
        "    'RF_model__max_depth': [None, 10, 20, 30],\n",
        "    'RF_model__min_samples_split': [2, 5, 10],\n",
        "    'RF_model__min_samples_leaf': [1, 2, 4],\n",
        "    'RF_model__bootstrap': [True, False],\n",
        "\n",
        "    'xgb_model__n_estimators': [100, 200, 300],\n",
        "    'xgb_model__max_depth': [3, 5, 7],\n",
        "    'xgb_model__learning_rate': [0.01, 0.1, 0.2]\n",
        "}\n"
      ]
    },
    {
      "cell_type": "code",
      "execution_count": null,
      "metadata": {
        "colab": {
          "base_uri": "https://localhost:8080/"
        },
        "id": "DF6GZF_rMQTW",
        "outputId": "c8ccdb97-9e08-4359-f47f-d7b76ee45876"
      },
      "outputs": [],
      "source": [
        "grid_log = GridSearchCV(log_model, param_grid=param_grid_log, cv=5, scoring='accuracy', n_jobs=-1)\n",
        "grid_log.fit(X_train, y_train)\n",
        "print('Best Score log:', grid_log.best_score_)\n",
        "print('Best Params log:', grid_log.best_params_)"
      ]
    },
    {
      "cell_type": "code",
      "execution_count": null,
      "metadata": {
        "colab": {
          "base_uri": "https://localhost:8080/"
        },
        "id": "H1bc3DQDMmlC",
        "outputId": "fa3a7c9b-321d-4b8a-ca43-754e5385ce37"
      },
      "outputs": [],
      "source": [
        "grid_DT = GridSearchCV(DT_model, param_grid=param_grid_DT, cv=5, scoring='accuracy', n_jobs=-1)\n",
        "grid_DT.fit(X_train, y_train)\n",
        "print('Best Score DT:', grid_DT.best_score_)\n",
        "print('Best Params DT:', grid_DT.best_params_)"
      ]
    },
    {
      "cell_type": "code",
      "execution_count": null,
      "metadata": {
        "colab": {
          "base_uri": "https://localhost:8080/"
        },
        "id": "0MpX4XITMmXu",
        "outputId": "9c9f9a46-8c43-4c4e-c33c-4a3610475aac"
      },
      "outputs": [],
      "source": [
        "grid_RF = RandomizedSearchCV(RF_model, param_distributions=param_dist_RF, cv=3, scoring='accuracy', n_jobs=-1)\n",
        "grid_RF.fit(X_train, y_train)\n",
        "print('Best Score RF:', grid_RF.best_score_)\n",
        "print('Best Params RF:', grid_RF.best_params_)"
      ]
    },
    {
      "cell_type": "code",
      "execution_count": null,
      "metadata": {
        "colab": {
          "base_uri": "https://localhost:8080/"
        },
        "id": "FBnLNyaAMmFb",
        "outputId": "f4b97212-b5a1-4072-8016-666906c23ccd"
      },
      "outputs": [],
      "source": [
        "grid_SVM = RandomizedSearchCV(SVM_model, param_distributions=param_dist_SVM, cv=5, scoring='accuracy', n_jobs=-1)\n",
        "grid_SVM.fit(X_train, y_train)\n",
        "print('Best Score SVM:', grid_SVM.best_score_)\n",
        "print('Best Params SVM:', grid_SVM.best_params_)"
      ]
    },
    {
      "cell_type": "code",
      "execution_count": null,
      "metadata": {
        "colab": {
          "base_uri": "https://localhost:8080/"
        },
        "id": "_B5ZbCkNM9-F",
        "outputId": "69afc170-7063-4004-92ce-817d48b05a9f"
      },
      "outputs": [],
      "source": [
        "grid_xgb = RandomizedSearchCV(xgb_model, param_distributions=param_dist_xgb, n_iter=20, cv=3, scoring='accuracy', n_jobs=-1)\n",
        "grid_xgb.fit(X_train, y_train)\n",
        "print('Best Score xgb:', grid_xgb.best_score_)\n",
        "print('Best Params xgb:', grid_xgb.best_params_)"
      ]
    },
    {
      "cell_type": "code",
      "execution_count": null,
      "metadata": {},
      "outputs": [],
      "source": [
        "grid_voting = RandomizedSearchCV(voting_model, param_distributions=param_dist_voting, n_iter=20, cv=3, scoring='accuracy', n_jobs=-1)\n",
        "grid_voting.fit(X_train, y_train)\n",
        "print('Best Score voting:', grid_voting.best_score_)\n",
        "print('Best Params voting:', grid_voting.best_params_)"
      ]
    },
    {
      "cell_type": "markdown",
      "metadata": {
        "id": "adHBVcX_q8if"
      },
      "source": [
        "## Evaluation Models"
      ]
    },
    {
      "cell_type": "code",
      "execution_count": null,
      "metadata": {
        "colab": {
          "base_uri": "https://localhost:8080/",
          "height": 610
        },
        "id": "xUiPEV3HRRKQ",
        "outputId": "f0e6d000-3420-4b0c-973d-618eee39af61"
      },
      "outputs": [],
      "source": [
        "all_models = {\n",
        "    'Model': [\n",
        "        'Logistic Regression', 'Decision Tree', 'Random Forest',\n",
        "        'Support Vector Machine (SVM)', 'XGBoost', 'Voting Classifier'\n",
        "    ],\n",
        "    'Accuracy': [\n",
        "        accuracy_score(y_test, y_pred_log), accuracy_score(y_test, y_pred_DT),\n",
        "        accuracy_score(y_test, y_pred_RF), accuracy_score(y_test, y_pred_SVM),\n",
        "        accuracy_score(y_test, y_pred_xgb), accuracy_score(y_test, y_pred_voting)\n",
        "    ],\n",
        "    'F1-Score': [\n",
        "        f1_score(y_test, y_pred_log), f1_score(y_test, y_pred_DT),\n",
        "        f1_score(y_test, y_pred_RF), f1_score(y_test, y_pred_SVM),\n",
        "        f1_score(y_test, y_pred_xgb), f1_score(y_test, y_pred_voting)\n",
        "    ]\n",
        "}\n",
        "\n",
        "performance_df = pd.DataFrame(all_models).set_index('Model').sort_values(by='Accuracy', ascending=False)\n",
        "\n",
        "print('Final Model Evaluation:')\n",
        "print((performance_df * 100).round(2))\n",
        "\n",
        "plt.figure(figsize=(10, 8))\n",
        "sns.barplot(x=performance_df['Accuracy'] * 100, y=performance_df.index, palette='viridis')\n",
        "plt.title('Final Model Evaluation', fontsize=16)\n",
        "plt.xlabel(\"Accuracy (%)\", fontsize=12)\n",
        "plt.ylabel('Model', fontsize=12)\n",
        "plt.show()"
      ]
    },
    {
      "cell_type": "markdown",
      "metadata": {
        "id": "2zoQXJsBDSjg"
      },
      "source": [
        "# Unsupervised Learning - Clustering"
      ]
    },
    {
      "cell_type": "markdown",
      "metadata": {
        "id": "zB8O6L5aDZtQ"
      },
      "source": [
        "## KMeans"
      ]
    },
    {
      "cell_type": "code",
      "execution_count": null,
      "metadata": {
        "colab": {
          "base_uri": "https://localhost:8080/"
        },
        "id": "rjWi76_vDYfA",
        "outputId": "7e647b33-1136-4b8e-914e-0a49fbf604f5"
      },
      "outputs": [],
      "source": [
        "kmeans = KMeans(n_clusters=3, n_init='auto', random_state=42)\n",
        "kmeans.fit(X_pca)\n",
        "\n",
        "labels = kmeans.labels_\n",
        "centers = kmeans.cluster_centers_\n",
        "\n",
        "print(\"Silhouette Score:\", silhouette_score(X, labels))"
      ]
    },
    {
      "cell_type": "code",
      "execution_count": null,
      "metadata": {
        "colab": {
          "base_uri": "https://localhost:8080/",
          "height": 472
        },
        "id": "AXCB_W6ZLF7b",
        "outputId": "768f4abd-0b30-42a4-c5d0-b9013e6387d4"
      },
      "outputs": [],
      "source": [
        "plt.scatter(X_pca[:, 0], X_pca[:, 1], c=labels, cmap='viridis', alpha=0.7, edgecolor='k')\n",
        "plt.scatter(centers[:, 0], centers[:, 1], c='red', marker='x', s=200, label='Centroids')\n",
        "plt.xlabel('First Principal Component')\n",
        "plt.ylabel('Second Principal Component')\n",
        "plt.title('K-Means Clustering')\n",
        "plt.legend()\n",
        "plt.show()"
      ]
    },
    {
      "cell_type": "code",
      "execution_count": null,
      "metadata": {
        "colab": {
          "base_uri": "https://localhost:8080/",
          "height": 265
        },
        "id": "QgVyWw_ELR6H",
        "outputId": "868ed0dd-6551-49af-a293-1789ab4749a4"
      },
      "outputs": [],
      "source": [
        "wcss = []\n",
        "silhouette_scores = []\n",
        "\n",
        "for k in range(2, 15):\n",
        "    kmeans = KMeans(n_clusters=k, n_init=10, random_state=42)\n",
        "    labels = kmeans.fit_predict(X_pca)\n",
        "    wcss.append(kmeans.inertia_)\n",
        "    silhouette_scores.append(silhouette_score(X_pca, labels))\n",
        "\n",
        "plt.figure(figsize=(10,4))\n",
        "plt.subplot(1,2,1)\n",
        "plt.plot(range(2, 15), wcss, marker='o')\n",
        "plt.xlabel('Number of Clusters (K)')\n",
        "plt.ylabel('WCSS')\n",
        "plt.title('Elbow Method')\n",
        "\n",
        "plt.subplot(1,2,2)\n",
        "plt.plot(range(2, 15), silhouette_scores, marker='o')\n",
        "plt.xlabel('Number of Clusters (K)')\n",
        "plt.ylabel('Silhouette Score')\n",
        "plt.title('Silhouette Method')\n",
        "\n",
        "plt.tight_layout()\n",
        "plt.show()"
      ]
    },
    {
      "cell_type": "markdown",
      "metadata": {
        "id": "EHXvWmclLZfp"
      },
      "source": [
        "## Hierarchical Clustering"
      ]
    },
    {
      "cell_type": "code",
      "execution_count": null,
      "metadata": {
        "colab": {
          "base_uri": "https://localhost:8080/",
          "height": 481
        },
        "id": "bQdDZFgaLesm",
        "outputId": "b801aee9-e88b-468e-ca61-8bb57cac1373"
      },
      "outputs": [],
      "source": [
        "linkage_data = linkage(X_pca, method= 'ward', metric='euclidean')\n",
        "\n",
        "plt.figure(figsize=(10, 7))\n",
        "dendrogram(linkage_data)\n",
        "plt.title('Hierarchical Clustering Dendrogram')\n",
        "plt.xlabel('Data points')\n",
        "plt.ylabel('Distance')\n",
        "plt.show()"
      ]
    },
    {
      "cell_type": "markdown",
      "metadata": {
        "id": "rQB4fdfSsNBN"
      },
      "source": [
        "# Export Final Model"
      ]
    },
    {
      "cell_type": "code",
      "execution_count": null,
      "metadata": {
        "colab": {
          "base_uri": "https://localhost:8080/",
          "height": 221
        },
        "id": "l7o5idRovCVr",
        "outputId": "6e9463e9-9ada-429c-e94d-a85e56718660"
      },
      "outputs": [],
      "source": [
        "models = {\n",
        "  'final_model_log' : log_model,\n",
        "  'DT_model' : DT_model,\n",
        "  'RF_model' : RF_model,\n",
        "  'SVM_model' : SVM_model,\n",
        "  'XGBoost_model' : xgb_model,\n",
        "  'Voting_model' : voting_model\n",
        "}\n",
        "\n",
        "for name, model in models.items():\n",
        "  with open(f'models/{name}.pkl', 'wb') as file:\n",
        "    pickle.dump(model, file)"
      ]
    },
    {
      "cell_type": "code",
      "execution_count": null,
      "metadata": {
        "id": "Q-GnLIrMv2ey"
      },
      "outputs": [],
      "source": [
        "with open('models/final_model_log.pkl', 'rb') as file:\n",
        "  loaded_model = pickle.load(file)"
      ]
    },
    {
      "cell_type": "code",
      "execution_count": null,
      "metadata": {
        "id": "FOwPWCLyv-3a"
      },
      "outputs": [],
      "source": [
        "y_pred = loaded_model.predict(X_test)\n",
        "print(\"accuracy_score\",accuracy_score(y_test, y_pred))"
      ]
    }
  ],
  "metadata": {
    "colab": {
      "provenance": [],
      "toc_visible": true
    },
    "kernelspec": {
      "display_name": "Python 3",
      "name": "python3"
    },
    "language_info": {
      "codemirror_mode": {
        "name": "ipython",
        "version": 3
      },
      "file_extension": ".py",
      "mimetype": "text/x-python",
      "name": "python",
      "nbconvert_exporter": "python",
      "pygments_lexer": "ipython3",
      "version": "3.13.1"
    }
  },
  "nbformat": 4,
  "nbformat_minor": 0
}
